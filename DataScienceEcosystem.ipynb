{
 "cells": [
  {
   "cell_type": "markdown",
   "id": "6090cace-99c8-46c8-acf9-6cadf4d64615",
   "metadata": {},
   "source": [
    "# Data Science Tools and Ecosystem"
   ]
  },
  {
   "cell_type": "markdown",
   "id": "6a43e481-7aa1-4c18-817f-1266ceced146",
   "metadata": {},
   "source": [
    "In this notebook, Data Science Tools and Ecosystem are summarized."
   ]
  },
  {
   "cell_type": "markdown",
   "id": "0371bd56-6f1b-42a6-abfe-4bedbeac9441",
   "metadata": {},
   "source": [
    "Some of the popular languages that Data Scientists use are:\n",
    "* Python\n",
    "* R\n",
    "* Java\n",
    "* Julia"
   ]
  },
  {
   "cell_type": "markdown",
   "id": "f47e95d4-dde2-450e-8841-c24adb036d2f",
   "metadata": {},
   "source": [
    "Some of the commonly used libraries used by Data Scientists include:\n",
    "* Numpy\n",
    "* Pandas\n",
    "* Matplotlib\n",
    "* Sckit-learn"
   ]
  },
  {
   "cell_type": "markdown",
   "id": "d4dd7a7c-e068-4319-8945-144bd7f9c515",
   "metadata": {},
   "source": [
    "| Data Science Tools    |\n",
    "|----------------------|\n",
    "| Jupyter Notebook     |\n",
    "| RStudio              |\n",
    "| KNIME                |\n"
   ]
  },
  {
   "cell_type": "markdown",
   "id": "5b73dd7a-8ff3-4bfd-b122-86a35c037b66",
   "metadata": {},
   "source": [
    "### Below are a few examples of evaluating arithmetic expressions in Python."
   ]
  },
  {
   "cell_type": "code",
   "execution_count": 2,
   "id": "e01d5bb9-df4b-4f64-85e1-918632f013e8",
   "metadata": {},
   "outputs": [
    {
     "data": {
      "text/plain": [
       "17"
      ]
     },
     "execution_count": 2,
     "metadata": {},
     "output_type": "execute_result"
    }
   ],
   "source": [
    "#  This a simple arithmetic expression to mutiply then add integers\n",
    "(3*4)+5"
   ]
  },
  {
   "cell_type": "code",
   "execution_count": 3,
   "id": "900381ba-f363-4ed6-adc5-7009faf2e811",
   "metadata": {},
   "outputs": [
    {
     "data": {
      "text/plain": [
       "3.3333333333333335"
      ]
     },
     "execution_count": 3,
     "metadata": {},
     "output_type": "execute_result"
    }
   ],
   "source": [
    "# This will convert 200 minutes to hours by dividing by 60\n",
    "200/60"
   ]
  },
  {
   "cell_type": "markdown",
   "id": "bb38f429-d431-4274-ad25-56feb545ada4",
   "metadata": {},
   "source": [
    "**Objectives:**\n",
    "\n",
    "- List popular languages for Data Science\n",
    "- Demonstrate basic arithmetic and code cell execution in Python\n",
    "- Convert units using Python code (minutes to hours)\n",
    "- Create and format tables in Markdown\n",
    "- Identify open-source tools and environments used in data science\n"
   ]
  },
  {
   "cell_type": "markdown",
   "id": "bbaa4ca1-31f6-48cd-8dea-4c85b3b11e05",
   "metadata": {},
   "source": [
    "## Author\n",
    "\n",
    "Harsh Parihar"
   ]
  }
 ],
 "metadata": {
  "kernelspec": {
   "display_name": "Python 3 (ipykernel)",
   "language": "python",
   "name": "python3"
  },
  "language_info": {
   "codemirror_mode": {
    "name": "ipython",
    "version": 3
   },
   "file_extension": ".py",
   "mimetype": "text/x-python",
   "name": "python",
   "nbconvert_exporter": "python",
   "pygments_lexer": "ipython3",
   "version": "3.12.8"
  }
 },
 "nbformat": 4,
 "nbformat_minor": 5
}
